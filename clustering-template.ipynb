{
 "cells": [
  {
   "cell_type": "markdown",
   "id": "4c2e31e4-a52d-4cbf-bb72-527bb84a4c75",
   "metadata": {},
   "source": [
    "## Clustering template"
   ]
  },
  {
   "cell_type": "markdown",
   "id": "e0742e2f-bcb3-4dd6-8001-c661de342acf",
   "metadata": {},
   "source": [
    "### 1. Import libraries"
   ]
  },
  {
   "cell_type": "code",
   "execution_count": 1,
   "id": "090c16a0-2e17-4b61-89ed-fe6040832a14",
   "metadata": {},
   "outputs": [],
   "source": [
    "import numpy as np\n",
    "import pandas as pd\n",
    "import matplotlib.pyplot as plt\n",
    "import seaborn as sns\n",
    "import random\n",
    "from tqdm.notebook import tqdm"
   ]
  },
  {
   "cell_type": "code",
   "execution_count": 2,
   "id": "1543e56a-51fb-4946-ba97-9d5f4621a961",
   "metadata": {},
   "outputs": [],
   "source": [
    "random.seed(42)\n",
    "np.random.seed(42)\n",
    "pd.options.display.max_columns = 50\n",
    "pd.options.display.max_rows = 100\n",
    "tqdm.pandas()\n",
    "sns.set()"
   ]
  },
  {
   "cell_type": "code",
   "execution_count": 5,
   "id": "d33cd4a9-24e2-4d17-ba44-ca976938117a",
   "metadata": {},
   "outputs": [],
   "source": [
    "from helper_funcs import *"
   ]
  },
  {
   "cell_type": "markdown",
   "id": "1b65a0f9-edef-478e-aee1-125b8ff63f67",
   "metadata": {
    "tags": []
   },
   "source": [
    "### 2. Reading data"
   ]
  },
  {
   "cell_type": "code",
   "execution_count": null,
   "id": "6b1987fe-3722-4238-93de-ca6c298ec596",
   "metadata": {},
   "outputs": [],
   "source": [
    "df = pd.read_csv('',index_col=0)"
   ]
  },
  {
   "cell_type": "markdown",
   "id": "3979a4fa-4a93-4c51-a708-8997837b5f80",
   "metadata": {
    "tags": []
   },
   "source": [
    "### 3. Exploring data"
   ]
  },
  {
   "cell_type": "markdown",
   "id": "607a2994-370b-45d9-b8c0-18f8e1af09a9",
   "metadata": {},
   "source": [
    "### 4. Feature engineering"
   ]
  },
  {
   "cell_type": "markdown",
   "id": "c6579243-5573-4eb7-8927-b9b1455491dc",
   "metadata": {},
   "source": [
    "### 5. Preparing X"
   ]
  },
  {
   "cell_type": "code",
   "execution_count": null,
   "id": "3c985d43-156c-40bb-9b98-6fcb23242f7f",
   "metadata": {},
   "outputs": [],
   "source": []
  },
  {
   "cell_type": "code",
   "execution_count": null,
   "id": "5d92839c-7048-47ca-8f46-f03d97e7b934",
   "metadata": {},
   "outputs": [],
   "source": [
    "X = df[feats]"
   ]
  },
  {
   "cell_type": "code",
   "execution_count": null,
   "id": "b43bb9b7-8541-48ca-916f-6e5538329e53",
   "metadata": {},
   "outputs": [],
   "source": [
    "X_hot = pd.get_dummies(X)"
   ]
  },
  {
   "cell_type": "code",
   "execution_count": null,
   "id": "29b4fb9d-bec4-4c0a-ad14-8549e5ed7805",
   "metadata": {},
   "outputs": [],
   "source": [
    "# normalize\n",
    "from sklearn.preprocessing import StandardScaler\n",
    "\n",
    "scaler = StandardScaler()\n",
    "X_std = scaler.fit_transform(X)"
   ]
  },
  {
   "cell_type": "code",
   "execution_count": null,
   "id": "b82fa830-2f34-4a62-b23c-eeed21e5174a",
   "metadata": {},
   "outputs": [],
   "source": [
    "# pca\n",
    "from sklearn.decomposition import PCA\n",
    "\n",
    "X_red = PCA(n_components=2).fit_transform(X_imp_std)"
   ]
  },
  {
   "cell_type": "markdown",
   "id": "55a1781a-e988-4274-b4dd-a9519b706d40",
   "metadata": {
    "tags": []
   },
   "source": [
    "### 6. Models with default parameters"
   ]
  },
  {
   "cell_type": "markdown",
   "id": "d9e8aaa7-05e9-47b8-9fcf-b79bee2e25b1",
   "metadata": {
    "tags": []
   },
   "source": [
    "#### 6.1 Kmeans"
   ]
  },
  {
   "cell_type": "code",
   "execution_count": null,
   "id": "0f6a7a14-a7ed-47f2-9b62-04f2d944fc57",
   "metadata": {},
   "outputs": [],
   "source": []
  },
  {
   "cell_type": "code",
   "execution_count": null,
   "id": "9eda6059-76e9-4ae8-bcde-579f68a39477",
   "metadata": {},
   "outputs": [],
   "source": [
    "distortions = []\n",
    "for i in tqdm(range(1, 11)):\n",
    "    km = KMeans(\n",
    "        n_clusters=i, init='random',\n",
    "        n_init=10, max_iter=300,\n",
    "        tol=1e-04, random_state=0\n",
    "    )\n",
    "    km.fit(X_imp_std)\n",
    "    distortions.append(km.inertia_)\n",
    "\n",
    "# plot\n",
    "plt.plot(range(1, 11), distortions, marker='o')\n",
    "plt.xlabel('Number of clusters')\n",
    "plt.ylabel('Distortion')\n",
    "plt.show()"
   ]
  },
  {
   "cell_type": "code",
   "execution_count": null,
   "id": "a03b4490-e038-47cd-a470-8e7e993e8014",
   "metadata": {},
   "outputs": [],
   "source": [
    "# k means\n",
    "from sklearn.cluster import KMeans\n",
    "\n",
    "kmeans = KMeans(init='k-means++', n_clusters=3, n_init=10)\n",
    "kmeans.fit(X_imp_std)"
   ]
  },
  {
   "cell_type": "code",
   "execution_count": null,
   "id": "c03b09d9-1404-44a5-af2b-4de09a5664e9",
   "metadata": {},
   "outputs": [],
   "source": [
    "y_pred = kmeans.predict(X_imp_std)"
   ]
  },
  {
   "cell_type": "code",
   "execution_count": null,
   "id": "b66c82f2-fb39-47ca-8ffc-126f14adc0ae",
   "metadata": {},
   "outputs": [],
   "source": [
    "plt.figure(figsize=(10,8))\n",
    "sns.scatterplot(X_red[:,0],X_red[:,1],hue=y_pred)"
   ]
  },
  {
   "cell_type": "code",
   "execution_count": null,
   "id": "a03ca008-3446-48cd-886e-6d17d1d70d6d",
   "metadata": {},
   "outputs": [],
   "source": []
  },
  {
   "cell_type": "code",
   "execution_count": null,
   "id": "9371a532-fd2f-4d0c-9d27-f21b172c74de",
   "metadata": {},
   "outputs": [],
   "source": [
    "from sklearn.cluster import DBSCAN\n",
    "\n",
    "db = DBSCAN(n_jobs=-1)\n",
    "db.fit(X_imp_std)"
   ]
  },
  {
   "cell_type": "code",
   "execution_count": null,
   "id": "25f9021c-6b09-4107-94c3-6aee719b6ec3",
   "metadata": {},
   "outputs": [],
   "source": [
    "plt.figure(figsize=(10,8))\n",
    "sns.scatterplot(X_red[:,0],X_red[:,1],hue=db.labels_)"
   ]
  },
  {
   "cell_type": "markdown",
   "id": "dd953bac-1c62-400c-bada-4fc172f47aa5",
   "metadata": {
    "tags": []
   },
   "source": [
    "### 7. Grid search"
   ]
  },
  {
   "cell_type": "markdown",
   "id": "a0e945ec-3ec5-4de6-bd48-fd0a3e27732b",
   "metadata": {
    "tags": []
   },
   "source": [
    "#### 7.1 Random forest"
   ]
  },
  {
   "cell_type": "code",
   "execution_count": null,
   "id": "2b523fcd-aad2-4623-8d4c-6236eb278b66",
   "metadata": {},
   "outputs": [],
   "source": [
    "n_estimators = [1,5,10,50,100,200,500]\n",
    "max_depth = [1,5,10,20,30,50]\n",
    "\n",
    "max_features = ['auto', 'sqrt']\n",
    "min_samples_split = [2, 5, 10]\n",
    "min_samples_leaf = [1, 2, 4]\n",
    "bootstrap = [True, False]\n",
    "\n",
    "random_grid = {'n_estimators': n_estimators,\n",
    "               'max_features': max_features,\n",
    "               'max_depth': max_depth,\n",
    "               'min_samples_split': min_samples_split,\n",
    "               'min_samples_leaf': min_samples_leaf,\n",
    "               'bootstrap': bootstrap}\n",
    "\n",
    "%%time\n",
    "#neg_mean_absolute_error, neg_mean_squared_error\n",
    "rf_grid = RandomForestRegressor()\n",
    "rf_random = RandomizedSearchCV(estimator=rf_grid, param_distributions=random_grid, scoring='neg_mean_absolute_error',n_iter=100, cv=5, verbose=2, random_state=42, n_jobs=-1)\n",
    "rf_random.fit(X_train, y_train)\n",
    "\n",
    "rf_random.best_params_\n",
    "\n",
    "rf_best = rf_random.best_estimator_\n",
    "rf_best_scores = score_model(rf_best, X_train, y_train, X_test, y_test, name='best_rf')"
   ]
  }
 ],
 "metadata": {
  "kernelspec": {
   "display_name": "Python 3 (ipykernel)",
   "language": "python",
   "name": "python3"
  },
  "language_info": {
   "codemirror_mode": {
    "name": "ipython",
    "version": 3
   },
   "file_extension": ".py",
   "mimetype": "text/x-python",
   "name": "python",
   "nbconvert_exporter": "python",
   "pygments_lexer": "ipython3",
   "version": "3.9.7"
  }
 },
 "nbformat": 4,
 "nbformat_minor": 5
}
