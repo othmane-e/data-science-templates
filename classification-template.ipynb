{
 "cells": [
  {
   "cell_type": "markdown",
   "id": "4c2e31e4-a52d-4cbf-bb72-527bb84a4c75",
   "metadata": {},
   "source": [
    "## Regression template"
   ]
  },
  {
   "cell_type": "markdown",
   "id": "e0742e2f-bcb3-4dd6-8001-c661de342acf",
   "metadata": {},
   "source": [
    "### 1. Import libraries"
   ]
  },
  {
   "cell_type": "code",
   "execution_count": 1,
   "id": "090c16a0-2e17-4b61-89ed-fe6040832a14",
   "metadata": {},
   "outputs": [],
   "source": [
    "import numpy as np\n",
    "import pandas as pd\n",
    "import matplotlib.pyplot as plt\n",
    "import seaborn as sns\n",
    "import random\n",
    "from tqdm.notebook import tqdm"
   ]
  },
  {
   "cell_type": "code",
   "execution_count": 2,
   "id": "1543e56a-51fb-4946-ba97-9d5f4621a961",
   "metadata": {},
   "outputs": [],
   "source": [
    "random.seed(42)\n",
    "np.random.seed(42)\n",
    "pd.options.display.max_columns = 50\n",
    "pd.options.display.max_rows = 100\n",
    "tqdm.pandas()\n",
    "sns.set()"
   ]
  },
  {
   "cell_type": "code",
   "execution_count": 4,
   "id": "8e2c0c8a-68d8-4b47-800f-665769cc12e5",
   "metadata": {},
   "outputs": [],
   "source": [
    "from sklearn.model_selection import train_test_split, cross_validate, RandomizedSearchCV\n",
    "from sklearn.metrics import r2_score, mean_squared_error, mean_absolute_error, \\\n",
    "                            accuracy_score, precision_score, recall_score, f1_score, confusion_matrix, roc_auc_score\n",
    "from sklearn.ensemble import RandomForestClassifier\n",
    "from sklearn.tree import DecisionTreeClassifier\n",
    "from sklearn.linear_model import LogisticRegression\n",
    "import xgboost as xgb"
   ]
  },
  {
   "cell_type": "code",
   "execution_count": null,
   "id": "d33cd4a9-24e2-4d17-ba44-ca976938117a",
   "metadata": {},
   "outputs": [],
   "source": [
    "from helper_funcs import *"
   ]
  },
  {
   "cell_type": "markdown",
   "id": "1b65a0f9-edef-478e-aee1-125b8ff63f67",
   "metadata": {
    "tags": []
   },
   "source": [
    "### 2. Reading data"
   ]
  },
  {
   "cell_type": "code",
   "execution_count": null,
   "id": "6b1987fe-3722-4238-93de-ca6c298ec596",
   "metadata": {},
   "outputs": [],
   "source": [
    "df = pd.read_csv('',index_col=0)"
   ]
  },
  {
   "cell_type": "code",
   "execution_count": null,
   "id": "670e2f54-f992-42ec-bae4-517825fd6829",
   "metadata": {},
   "outputs": [],
   "source": [
    "df.shape"
   ]
  },
  {
   "cell_type": "code",
   "execution_count": null,
   "id": "bf219adf-2b35-480c-950c-df8113a8ec4c",
   "metadata": {},
   "outputs": [],
   "source": [
    "df.head()"
   ]
  },
  {
   "cell_type": "code",
   "execution_count": null,
   "id": "25b3e177-d881-403f-bead-d30b4cffcd1d",
   "metadata": {},
   "outputs": [],
   "source": [
    "df.dtypes"
   ]
  },
  {
   "cell_type": "code",
   "execution_count": null,
   "id": "3a197c0b-496a-4faf-941e-247ecfee4988",
   "metadata": {},
   "outputs": [],
   "source": [
    "df.nunique()"
   ]
  },
  {
   "cell_type": "markdown",
   "id": "3979a4fa-4a93-4c51-a708-8997837b5f80",
   "metadata": {
    "tags": []
   },
   "source": [
    "### 3. Exploring data"
   ]
  },
  {
   "cell_type": "code",
   "execution_count": null,
   "id": "802561c4-28f6-4e41-99fe-fb538779f20c",
   "metadata": {},
   "outputs": [],
   "source": [
    "df.isna().sum()"
   ]
  },
  {
   "cell_type": "code",
   "execution_count": null,
   "id": "a5ae5746-2284-47dd-98d3-051c27e2363e",
   "metadata": {},
   "outputs": [],
   "source": [
    "plt.figure(figsize=(10, 6))\n",
    "sns.heatmap(df.isnull(), cmap='YlGnBu', cbar=False)\n",
    "plt.title('Missing Values Heatmap')\n",
    "plt.show()"
   ]
  },
  {
   "cell_type": "markdown",
   "id": "607a2994-370b-45d9-b8c0-18f8e1af09a9",
   "metadata": {},
   "source": [
    "### 4. Feature engineering"
   ]
  },
  {
   "cell_type": "code",
   "execution_count": 18,
   "id": "c36e49d1-16f5-4661-8de5-62c2537f9528",
   "metadata": {},
   "outputs": [],
   "source": [
    "target = 'Transported'\n",
    "feats_num = []\n",
    "feats_bool = []\n",
    "feats_cat_high_card = []\n",
    "feats_cat_low_card = []"
   ]
  },
  {
   "cell_type": "code",
   "execution_count": 19,
   "id": "9592c6c5-36c5-4b4e-8b16-1ff42abc3d77",
   "metadata": {},
   "outputs": [],
   "source": [
    "feats = feats_num + feats_bool + feats_cat_low_card"
   ]
  },
  {
   "cell_type": "markdown",
   "id": "64b363fa-3e8c-4554-88d9-d279f58522a2",
   "metadata": {},
   "source": [
    "**Dealing with missing values**"
   ]
  },
  {
   "cell_type": "code",
   "execution_count": null,
   "id": "61d95d14-0686-4d33-ab9e-893fbbc93447",
   "metadata": {},
   "outputs": [],
   "source": [
    "print(f'Shape before {df.shape}')\n",
    "df_drop_na = df.dropna()\n",
    "print(f'Shape after {df_drop_na.shape}, reduction of {100*(df.shape[0] - df_drop_na.shape[0])/df.shape[0]:.2f}%')"
   ]
  },
  {
   "cell_type": "code",
   "execution_count": 43,
   "id": "c90d8822-8b68-4d3c-85c9-572c84396a0b",
   "metadata": {},
   "outputs": [],
   "source": [
    "df_final = df_drop_na"
   ]
  },
  {
   "cell_type": "markdown",
   "id": "f2088ac6-20a3-48ed-88c8-d27af43187bb",
   "metadata": {},
   "source": [
    "### 5. Preparing X,y"
   ]
  },
  {
   "cell_type": "code",
   "execution_count": 44,
   "id": "82bd18a7-a07f-440a-9982-9d11350678c3",
   "metadata": {},
   "outputs": [],
   "source": [
    "X = df_final[feats]\n",
    "\n",
    "y = df_final[target]"
   ]
  },
  {
   "cell_type": "code",
   "execution_count": null,
   "id": "b43bb9b7-8541-48ca-916f-6e5538329e53",
   "metadata": {},
   "outputs": [],
   "source": [
    "X_hot = pd.get_dummies(X)"
   ]
  },
  {
   "cell_type": "code",
   "execution_count": null,
   "id": "44c6d293-b6a4-4c1e-93ed-887c9a3ffe0b",
   "metadata": {},
   "outputs": [],
   "source": [
    "X_train, X_test, y_train, y_test = train_test_split(X_hot, y, test_size=0.20, random_state=42)"
   ]
  },
  {
   "cell_type": "markdown",
   "id": "55a1781a-e988-4274-b4dd-a9519b706d40",
   "metadata": {
    "tags": []
   },
   "source": [
    "### 6. Models with default parameters"
   ]
  },
  {
   "cell_type": "markdown",
   "id": "ca269ba3-6650-4490-8f26-ca6d5f7fec0a",
   "metadata": {},
   "source": [
    "#### 6.1 Random Forest"
   ]
  },
  {
   "cell_type": "code",
   "execution_count": null,
   "id": "8ef1cf76-8615-4428-bc32-28b2e8fd01c3",
   "metadata": {},
   "outputs": [],
   "source": [
    "# Instantiate and train the Random Forest classifier\n",
    "rf = RandomForestClassifier()\n",
    "rf.fit(X_train, y_train)"
   ]
  },
  {
   "cell_type": "code",
   "execution_count": null,
   "id": "cac51672-0b64-4887-9b1b-5f3877e49ff4",
   "metadata": {},
   "outputs": [],
   "source": [
    "# Score the Random Forest classifier\n",
    "rf_scores = score_classification_model(rf, X_train, y_train, X_test, y_test)"
   ]
  },
  {
   "cell_type": "code",
   "execution_count": null,
   "id": "a40f348b-57f3-440c-96e5-cbb901d9a0d2",
   "metadata": {},
   "outputs": [],
   "source": [
    "# Perform cross-validation with Random Forest classifier\n",
    "rf = RandomForestClassifier()\n",
    "cv_results = cross_validate(rf, X_train, y_train, cv=5, scoring=['accuracy', 'precision', 'recall', 'f1', 'roc_auc'])\n",
    "\n",
    "print('Test scores accuracy mean:', cv_results['test_accuracy'].mean(), 'Test scores accuracy std:', cv_results['test_accuracy'].std())\n",
    "print('Test scores precision mean:', cv_results['test_precision'].mean(), 'Test scores precision std:', cv_results['test_precision'].std())\n",
    "print('Test scores recall mean:', cv_results['test_recall'].mean(), 'Test scores recall std:', cv_results['test_recall'].std())\n",
    "print('Test scores F1 mean:', cv_results['test_f1'].mean(), 'Test scores F1 std:', cv_results['test_f1'].std())\n",
    "print('Test scores AUC mean:', cv_results['test_roc_auc'].mean(), 'Test scores AUC std:', cv_results['test_roc_auc'].std())"
   ]
  },
  {
   "cell_type": "markdown",
   "id": "c2ec46a5-f328-4c00-af0a-2f341a0c7528",
   "metadata": {},
   "source": [
    "#### 6.2 XGBoost"
   ]
  },
  {
   "cell_type": "code",
   "execution_count": null,
   "id": "f8ba3541-e855-481e-b116-08791459332c",
   "metadata": {},
   "outputs": [],
   "source": [
    "# Instantiate and train the XGBoost classifier\n",
    "xgb_clf = xgb.XGBClassifier()\n",
    "xgb_clf.fit(X_train, y_train)"
   ]
  },
  {
   "cell_type": "code",
   "execution_count": null,
   "id": "a427db6e-74f8-4820-999f-1748f85627c0",
   "metadata": {},
   "outputs": [],
   "source": [
    "# Score the XGBoost classifier\n",
    "xgb_scores = score_classification_model(xgb_clf, X_train, y_train, X_test, y_test)"
   ]
  },
  {
   "cell_type": "code",
   "execution_count": null,
   "id": "eb30665a-0913-4400-9a4f-4775b91e9f49",
   "metadata": {},
   "outputs": [],
   "source": [
    "# Perform cross-validation with XGBoost classifier\n",
    "xgb_clf = xgb.XGBClassifier()\n",
    "cv_results = cross_validate(xgb_clf, X_train, y_train, cv=5, scoring=['accuracy', 'precision', 'recall', 'f1', 'roc_auc'])\n",
    "\n",
    "print('Test scores accuracy mean:', cv_results['test_accuracy'].mean(), 'Test scores accuracy std:', cv_results['test_accuracy'].std())\n",
    "print('Test scores precision mean:', cv_results['test_precision'].mean(), 'Test scores precision std:', cv_results['test_precision'].std())\n",
    "print('Test scores recall mean:', cv_results['test_recall'].mean(), 'Test scores recall std:', cv_results['test_recall'].std())\n",
    "print('Test scores F1 mean:', cv_results['test_f1'].mean(), 'Test scores F1 std:', cv_results['test_f1'].std())\n",
    "print('Test scores AUC mean:', cv_results['test_roc_auc'].mean(), 'Test scores AUC std:', cv_results['test_roc_auc'].std())"
   ]
  },
  {
   "cell_type": "markdown",
   "id": "1d42339a-63dc-4fc3-8f60-8a8ca3a6dbff",
   "metadata": {
    "tags": []
   },
   "source": [
    "### 7. Randomized search"
   ]
  },
  {
   "cell_type": "markdown",
   "id": "5bd0622a-c420-4c58-b307-53ebd6148852",
   "metadata": {
    "tags": []
   },
   "source": [
    "#### 7.1 Random Forest"
   ]
  },
  {
   "cell_type": "code",
   "execution_count": 2,
   "id": "3eca374a-bbe5-44a2-a142-de14110f445c",
   "metadata": {
    "tags": []
   },
   "outputs": [
    {
     "name": "stderr",
     "output_type": "stream",
     "text": [
      "UsageError: Line magic function `%%time` not found.\n"
     ]
    }
   ],
   "source": [
    "n_estimators = [1, 5, 10, 50, 100, 200, 500]\n",
    "max_depth = [1, 5, 10, 20, 30, 50]\n",
    "max_features = ['auto', 'sqrt']\n",
    "min_samples_split = [2, 5, 10]\n",
    "min_samples_leaf = [1, 2, 4]\n",
    "bootstrap = [True, False]\n",
    "\n",
    "random_grid = {\n",
    "    'n_estimators': n_estimators,\n",
    "    'max_features': max_features,\n",
    "    'max_depth': max_depth,\n",
    "    'min_samples_split': min_samples_split,\n",
    "    'min_samples_leaf': min_samples_leaf,\n",
    "    'bootstrap': bootstrap\n",
    "}\n",
    "\n",
    "rf_grid = RandomForestClassifier()\n",
    "rf_random = RandomizedSearchCV(estimator=rf_grid, param_distributions=random_grid, scoring='accuracy', n_iter=100, cv=5, verbose=2, random_state=42, n_jobs=-1)\n",
    "rf_random.fit(X_train, y_train)\n",
    "\n",
    "rf_best_params = rf_random.best_params_\n",
    "print(\"Best parameters for Random Forest:\", rf_best_params)\n",
    "\n",
    "rf_best = rf_random.best_estimator_\n",
    "rf_best_scores = score_classification_model(rf_best, X_train, y_train, X_test, y_test, name='best_rf')"
   ]
  },
  {
   "cell_type": "markdown",
   "id": "2535b116-c465-4849-a226-fb428dbaecb9",
   "metadata": {
    "tags": []
   },
   "source": [
    "#### 7.2 XGBoost"
   ]
  },
  {
   "cell_type": "code",
   "execution_count": null,
   "id": "f72e9ab3-d6d2-451c-a966-57c3b7b617c9",
   "metadata": {
    "jp-MarkdownHeadingCollapsed": true,
    "tags": []
   },
   "outputs": [],
   "source": [
    "# Define the parameter grid\n",
    "param_grid = {\n",
    "    'n_estimators': [1, 5, 10, 50, 100, 200, 500],\n",
    "    'max_depth': [1, 5, 10, 20, 30, 50],\n",
    "    'learning_rate': [0.01, 0.1, 0.2, 0.3],\n",
    "    'subsample': [0.8, 1.0],\n",
    "    'colsample_bytree': [0.8, 1.0],\n",
    "    'gamma': [0, 0.1, 0.2, 0.3],\n",
    "}\n",
    "\n",
    "# Create an instance of the XGBoost classifier\n",
    "xgb_clf = xgb.XGBClassifier()\n",
    "\n",
    "# Create a RandomizedSearchCV instance\n",
    "xgb_random = RandomizedSearchCV(estimator=xgb_clf, param_distributions=param_grid, scoring='accuracy', n_iter=100, cv=5, verbose=2, random_state=42, n_jobs=-1)\n",
    "xgb_random.fit(X_train, y_train)\n",
    "\n",
    "xgb_best_params = xgb_random.best_params_\n",
    "print(\"Best parameters for XGBoost:\", xgb_best_params)\n",
    "\n",
    "# Use the best estimator from RandomizedSearchCV\n",
    "xgb_best = xgb_random.best_estimator_\n",
    "xgb_best_scores = score_classification_model(xgb_best, X_train, y_train, X_test, y_test, name='best_xgb')"
   ]
  }
 ],
 "metadata": {
  "kernelspec": {
   "display_name": "Python 3 (ipykernel)",
   "language": "python",
   "name": "python3"
  },
  "language_info": {
   "codemirror_mode": {
    "name": "ipython",
    "version": 3
   },
   "file_extension": ".py",
   "mimetype": "text/x-python",
   "name": "python",
   "nbconvert_exporter": "python",
   "pygments_lexer": "ipython3",
   "version": "3.10.9"
  }
 },
 "nbformat": 4,
 "nbformat_minor": 5
}
